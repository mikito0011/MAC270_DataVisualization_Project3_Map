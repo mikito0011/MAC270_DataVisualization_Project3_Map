{
 "cells": [
  {
   "cell_type": "markdown",
   "metadata": {},
   "source": [
    "### Project#3 "
   ]
  },
  {
   "cell_type": "code",
   "execution_count": null,
   "metadata": {},
   "outputs": [],
   "source": [
    "import pandas as pd\n",
    "import matplotlib.pyplot as plt\n",
    "%matplotlib inline\n",
    "import numpy as np\n",
    "import seaborn as sns\n",
    "import folium\n"
   ]
  },
  {
   "cell_type": "code",
   "execution_count": null,
   "metadata": {},
   "outputs": [],
   "source": [
    "data = pd.read_csv(\"NYPD_Motor_Vehicle_Collisions.csv\")"
   ]
  },
  {
   "cell_type": "code",
   "execution_count": null,
   "metadata": {},
   "outputs": [],
   "source": [
    "interesting_columns = ['DATE','TIME','BOROUGH','LATITUDE', 'LONGITUDE',\n",
    "        'ON STREET NAME', 'CROSS STREET NAME','NUMBER OF PERSONS INJURED', 'NUMBER OF PERSONS KILLED',\n",
    "       'NUMBER OF PEDESTRIANS INJURED', 'NUMBER OF PEDESTRIANS KILLED',\n",
    "       'NUMBER OF CYCLIST INJURED', 'NUMBER OF CYCLIST KILLED',\n",
    "       'NUMBER OF MOTORIST INJURED', 'NUMBER OF MOTORIST KILLED']"
   ]
  },
  {
   "cell_type": "code",
   "execution_count": null,
   "metadata": {},
   "outputs": [],
   "source": [
    "data.dtypes"
   ]
  },
  {
   "cell_type": "code",
   "execution_count": null,
   "metadata": {},
   "outputs": [],
   "source": [
    "data = data[interesting_columns]"
   ]
  },
  {
   "cell_type": "code",
   "execution_count": null,
   "metadata": {},
   "outputs": [],
   "source": [
    "data.head()"
   ]
  },
  {
   "cell_type": "code",
   "execution_count": null,
   "metadata": {},
   "outputs": [],
   "source": [
    "danger = data.groupby([\"ON STREET NAME\", \"CROSS STREET NAME\"])[\"NUMBER OF PERSONS INJURED\"].sum()"
   ]
  },
  {
   "cell_type": "code",
   "execution_count": null,
   "metadata": {
    "scrolled": true
   },
   "outputs": [],
   "source": [
    "danger.sort_values().tail(6)"
   ]
  },
  {
   "cell_type": "code",
   "execution_count": null,
   "metadata": {},
   "outputs": [],
   "source": [
    "data[(data[\"NUMBER OF PEDESTRIANS INJURED\"]>=1)|(data[\"NUMBER OF CYCLIST INJURED\"]>=1)]"
   ]
  },
  {
   "cell_type": "markdown",
   "metadata": {},
   "source": [
    "### 5 top dangerous intersections in NYC (on street, cross street name and # of injured people)"
   ]
  },
  {
   "cell_type": "code",
   "execution_count": null,
   "metadata": {},
   "outputs": [],
   "source": [
    "\n",
    "# Make a data frame with dots to show on the map\n",
    "data2 = pd.DataFrame({\n",
    "'lat':[40.801830,40.663080, 40.658650, 40.716080, 40.640653],\n",
    "'lon':[-73.931400,-73.962390,-73.890610,-73.803140,  -73.743340],\n",
    "'name':['East 125th Street, 1 Ave ','Flatbush Ave, Empire Boulevard', 'Pennsylvania Ave, Linden Boulvard', \n",
    "        '164th Street, Grand Central Parkway', 'Rockaway Boulevard, Brookville Boulevard'],\n",
    "'injured people':['94', '95', '96', '115', '191']})\n",
    " \n",
    "# Make an empty map\n",
    "map1 = folium.Map(location=[40.7348,-73.9060], tiles=\"OpenStreetMap\", zoom_start=11)\n",
    "\n",
    "# I can add marker one by one on the map\n",
    "for i in range(0,5):\n",
    "    folium.Marker([data2.iloc[i]['lat'], data2.iloc[i]['lon']], tooltip=data2.iloc[i]['name']+'<br> Injured people: '+data2.iloc[i]['injured people']).add_to(map1)\n",
    "\n",
    "folium.TileLayer('Stamen Terrain').add_to(map1)\n",
    "folium.LayerControl().add_to(map1)\n",
    "\n",
    "\n",
    "map1.save(\"dangerous_intersections.html\")\n"
   ]
  },
  {
   "cell_type": "code",
   "execution_count": null,
   "metadata": {},
   "outputs": [],
   "source": [
    "from folium import plugins\n",
    "from folium.plugins import HeatMap"
   ]
  },
  {
   "cell_type": "code",
   "execution_count": null,
   "metadata": {},
   "outputs": [],
   "source": [
    "def get_hour(s):\n",
    "    if type(s) == str:\n",
    "        return s[0:2].replace(\":\", \"\")\n",
    "    else:\n",
    "        return s;"
   ]
  },
  {
   "cell_type": "code",
   "execution_count": null,
   "metadata": {},
   "outputs": [],
   "source": [
    "data.head()"
   ]
  },
  {
   "cell_type": "code",
   "execution_count": null,
   "metadata": {},
   "outputs": [],
   "source": [
    "data[\"hour\"] = data[\"TIME\"].apply(get_hour) #making new column"
   ]
  },
  {
   "cell_type": "code",
   "execution_count": null,
   "metadata": {},
   "outputs": [],
   "source": [
    "data.head(10000)"
   ]
  },
  {
   "cell_type": "code",
   "execution_count": null,
   "metadata": {},
   "outputs": [],
   "source": [
    "data_Oct_2018= data[(data[\"DATE\"].str.startswith(\"10/\")) & (data[\"DATE\"].str.endswith(\"2018\"))]"
   ]
  },
  {
   "cell_type": "code",
   "execution_count": null,
   "metadata": {},
   "outputs": [],
   "source": [
    "### Heatmap: Motor Vehicle Collisions in NY October, 2018"
   ]
  },
  {
   "cell_type": "code",
   "execution_count": null,
   "metadata": {
    "scrolled": false
   },
   "outputs": [],
   "source": [
    "map2 = folium.Map(location=[40.7508,-73.9060],\n",
    "                    zoom_start = 11) \n",
    "data_Oct_2018 = data_Oct_2018[[\"hour\",\"LATITUDE\",\"LONGITUDE\"]].dropna()\n",
    "heat_df = data_Oct_2018[['LATITUDE', 'LONGITUDE']]\n",
    "\n",
    "heat_df[\"Weight\"] = data_Oct_2018[\"hour\"].dropna()\n",
    "heat_df['Weight'] = heat_df['Weight'].astype(float)\n",
    "heat_df = heat_df.dropna(axis=0, subset=['LATITUDE','LONGITUDE', \"Weight\"])\n",
    "\n",
    "heat_data = [[[row['LATITUDE'],row['LONGITUDE']] for index, row in heat_df[heat_df['Weight'] == i].iterrows()] for i in range(0,24)]\n",
    "hm = plugins.HeatMapWithTime(heat_data,radius = 13,auto_play=False,max_opacity=0.8)\n",
    "hm.add_to(map2)\n",
    "map2"
   ]
  }
 ],
 "metadata": {
  "kernelspec": {
   "display_name": "Python 3",
   "language": "python",
   "name": "python3"
  },
  "language_info": {
   "codemirror_mode": {
    "name": "ipython",
    "version": 3
   },
   "file_extension": ".py",
   "mimetype": "text/x-python",
   "name": "python",
   "nbconvert_exporter": "python",
   "pygments_lexer": "ipython3",
   "version": "3.7.4"
  }
 },
 "nbformat": 4,
 "nbformat_minor": 2
}
